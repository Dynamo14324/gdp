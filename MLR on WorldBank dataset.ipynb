{
 "cells": [
  {
   "cell_type": "markdown",
   "metadata": {},
   "source": [
    "# # Import our Libraries"
   ]
  },
  {
   "cell_type": "code",
   "execution_count": 1,
   "metadata": {},
   "outputs": [],
   "source": [
    "import numpy as np \n",
    "import pandas as pd \n",
    "import seaborn as sns\n",
    "from scipy import stats\n",
    "import matplotlib.pyplot as plt\n",
    "import statsmodels.api as sm\n",
    "from statsmodels.stats import diagnostic as diag\n",
    "from statsmodels.stats.outliers_influence import variance_inflation_factor\n",
    "from sklearn.linear_model import LinearRegression\n",
    "from sklearn.model_selection import train_test_split\n",
    "from sklearn.metrics import mean_squared_error, r2_score, mean_absolute_error\n",
    "%matplotlib inline\n",
    "import os"
   ]
  },
  {
   "cell_type": "markdown",
   "metadata": {},
   "source": [
    "# Changing Directory to import data set "
   ]
  },
  {
   "cell_type": "code",
   "execution_count": 2,
   "metadata": {},
   "outputs": [],
   "source": [
    "os.chdir(r\"C:\\Users\\Ankit Dsouza\\Desktop\\Python Code\") "
   ]
  },
  {
   "cell_type": "code",
   "execution_count": 3,
   "metadata": {},
   "outputs": [],
   "source": [
    "# load the data and replace the '..' with nan\n",
    "econ_df = pd.read_excel('gpd_prediction.xlsx')\n",
    "econ_df = econ_df.replace('..','nan')\n",
    "# set the index to the year column\n",
    "econ_df = econ_df.set_index('Year')\n",
    "# set the data type and select rows up to 2016\n",
    "econ_df = econ_df.astype(float)\n",
    "econ_df = econ_df.loc['1969':'2016']"
   ]
  },
  {
   "cell_type": "markdown",
   "metadata": {},
   "source": [
    "# Changing Column name"
   ]
  },
  {
   "cell_type": "code",
   "execution_count": 4,
   "metadata": {
    "collapsed": true
   },
   "outputs": [
    {
     "data": {
      "text/plain": [
       "Index(['gdp_growth', 'gross_capital_formation', 'pop_growth', 'birth_rate',\n",
       "       'broad_money_growth', 'final_consum_growth', 'gov_final_consum_growth',\n",
       "       'gross_cap_form_growth', 'hh_consum_growth', 'unemployment'],\n",
       "      dtype='object')"
      ]
     },
     "execution_count": 4,
     "metadata": {},
     "output_type": "execute_result"
    }
   ],
   "source": [
    "econ_df.columns"
   ]
  },
  {
   "cell_type": "markdown",
   "metadata": {},
   "source": [
    "# Checking Missing Value"
   ]
  },
  {
   "cell_type": "code",
   "execution_count": 5,
   "metadata": {
    "collapsed": true
   },
   "outputs": [
    {
     "data": {
      "text/plain": [
       "gdp_growth                 0\n",
       "gross_capital_formation    0\n",
       "pop_growth                 0\n",
       "birth_rate                 0\n",
       "broad_money_growth         0\n",
       "final_consum_growth        0\n",
       "gov_final_consum_growth    0\n",
       "gross_cap_form_growth      0\n",
       "hh_consum_growth           0\n",
       "unemployment               0\n",
       "dtype: int64"
      ]
     },
     "execution_count": 5,
     "metadata": {},
     "output_type": "execute_result"
    }
   ],
   "source": [
    "# check for nulls\n",
    "econ_df.isnull().sum(axis = 0)"
   ]
  },
  {
   "cell_type": "markdown",
   "metadata": {},
   "source": [
    "# Data Partition"
   ]
  },
  {
   "cell_type": "code",
   "execution_count": 6,
   "metadata": {},
   "outputs": [],
   "source": [
    "# define our input variable (X) & output variable\n",
    "\n",
    "X = econ_df.drop('gdp_growth', axis = 1)\n",
    "Y = econ_df[['gdp_growth']]\n",
    "# Split X and y into X_\n",
    "X_train, X_test, y_train, y_test =train_test_split(X, Y, test_size=0.20,\n",
    "                                                   random_state=1)"
   ]
  },
  {
   "cell_type": "markdown",
   "metadata": {},
   "source": [
    "# Model Building"
   ]
  },
  {
   "cell_type": "markdown",
   "metadata": {},
   "source": [
    "# Correlation Matrix "
   ]
  },
  {
   "cell_type": "code",
   "execution_count": 7,
   "metadata": {},
   "outputs": [],
   "source": [
    "econ_df1=pd.concat([y_train,X_train],axis=1)"
   ]
  },
  {
   "cell_type": "code",
   "execution_count": 8,
   "metadata": {},
   "outputs": [
    {
     "data": {
      "text/html": [
       "<div>\n",
       "<style scoped>\n",
       "    .dataframe tbody tr th:only-of-type {\n",
       "        vertical-align: middle;\n",
       "    }\n",
       "\n",
       "    .dataframe tbody tr th {\n",
       "        vertical-align: top;\n",
       "    }\n",
       "\n",
       "    .dataframe thead th {\n",
       "        text-align: right;\n",
       "    }\n",
       "</style>\n",
       "<table border=\"1\" class=\"dataframe\">\n",
       "  <thead>\n",
       "    <tr style=\"text-align: right;\">\n",
       "      <th></th>\n",
       "      <th>gdp_growth</th>\n",
       "      <th>gross_capital_formation</th>\n",
       "      <th>pop_growth</th>\n",
       "      <th>birth_rate</th>\n",
       "      <th>broad_money_growth</th>\n",
       "      <th>final_consum_growth</th>\n",
       "      <th>gov_final_consum_growth</th>\n",
       "      <th>gross_cap_form_growth</th>\n",
       "      <th>hh_consum_growth</th>\n",
       "      <th>unemployment</th>\n",
       "    </tr>\n",
       "  </thead>\n",
       "  <tbody>\n",
       "    <tr>\n",
       "      <td>gdp_growth</td>\n",
       "      <td>1.000000</td>\n",
       "      <td>0.104711</td>\n",
       "      <td>0.577133</td>\n",
       "      <td>0.569042</td>\n",
       "      <td>0.312360</td>\n",
       "      <td>0.862195</td>\n",
       "      <td>0.092569</td>\n",
       "      <td>0.852379</td>\n",
       "      <td>0.878515</td>\n",
       "      <td>-0.216038</td>\n",
       "    </tr>\n",
       "    <tr>\n",
       "      <td>gross_capital_formation</td>\n",
       "      <td>0.104711</td>\n",
       "      <td>1.000000</td>\n",
       "      <td>-0.116695</td>\n",
       "      <td>-0.121824</td>\n",
       "      <td>-0.135948</td>\n",
       "      <td>0.307906</td>\n",
       "      <td>0.277231</td>\n",
       "      <td>0.141669</td>\n",
       "      <td>0.297928</td>\n",
       "      <td>-0.569541</td>\n",
       "    </tr>\n",
       "    <tr>\n",
       "      <td>pop_growth</td>\n",
       "      <td>0.577133</td>\n",
       "      <td>-0.116695</td>\n",
       "      <td>1.000000</td>\n",
       "      <td>0.979736</td>\n",
       "      <td>0.524675</td>\n",
       "      <td>0.508159</td>\n",
       "      <td>0.300214</td>\n",
       "      <td>0.383733</td>\n",
       "      <td>0.490806</td>\n",
       "      <td>0.224321</td>\n",
       "    </tr>\n",
       "    <tr>\n",
       "      <td>birth_rate</td>\n",
       "      <td>0.569042</td>\n",
       "      <td>-0.121824</td>\n",
       "      <td>0.979736</td>\n",
       "      <td>1.000000</td>\n",
       "      <td>0.520379</td>\n",
       "      <td>0.487728</td>\n",
       "      <td>0.302905</td>\n",
       "      <td>0.386733</td>\n",
       "      <td>0.469414</td>\n",
       "      <td>0.265149</td>\n",
       "    </tr>\n",
       "    <tr>\n",
       "      <td>broad_money_growth</td>\n",
       "      <td>0.312360</td>\n",
       "      <td>-0.135948</td>\n",
       "      <td>0.524675</td>\n",
       "      <td>0.520379</td>\n",
       "      <td>1.000000</td>\n",
       "      <td>0.302724</td>\n",
       "      <td>0.297538</td>\n",
       "      <td>0.249022</td>\n",
       "      <td>0.280291</td>\n",
       "      <td>0.297615</td>\n",
       "    </tr>\n",
       "    <tr>\n",
       "      <td>final_consum_growth</td>\n",
       "      <td>0.862195</td>\n",
       "      <td>0.307906</td>\n",
       "      <td>0.508159</td>\n",
       "      <td>0.487728</td>\n",
       "      <td>0.302724</td>\n",
       "      <td>1.000000</td>\n",
       "      <td>0.345633</td>\n",
       "      <td>0.744546</td>\n",
       "      <td>0.994399</td>\n",
       "      <td>-0.322985</td>\n",
       "    </tr>\n",
       "    <tr>\n",
       "      <td>gov_final_consum_growth</td>\n",
       "      <td>0.092569</td>\n",
       "      <td>0.277231</td>\n",
       "      <td>0.300214</td>\n",
       "      <td>0.302905</td>\n",
       "      <td>0.297538</td>\n",
       "      <td>0.345633</td>\n",
       "      <td>1.000000</td>\n",
       "      <td>0.078466</td>\n",
       "      <td>0.247448</td>\n",
       "      <td>-0.010499</td>\n",
       "    </tr>\n",
       "    <tr>\n",
       "      <td>gross_cap_form_growth</td>\n",
       "      <td>0.852379</td>\n",
       "      <td>0.141669</td>\n",
       "      <td>0.383733</td>\n",
       "      <td>0.386733</td>\n",
       "      <td>0.249022</td>\n",
       "      <td>0.744546</td>\n",
       "      <td>0.078466</td>\n",
       "      <td>1.000000</td>\n",
       "      <td>0.758793</td>\n",
       "      <td>-0.262096</td>\n",
       "    </tr>\n",
       "    <tr>\n",
       "      <td>hh_consum_growth</td>\n",
       "      <td>0.878515</td>\n",
       "      <td>0.297928</td>\n",
       "      <td>0.490806</td>\n",
       "      <td>0.469414</td>\n",
       "      <td>0.280291</td>\n",
       "      <td>0.994399</td>\n",
       "      <td>0.247448</td>\n",
       "      <td>0.758793</td>\n",
       "      <td>1.000000</td>\n",
       "      <td>-0.327459</td>\n",
       "    </tr>\n",
       "    <tr>\n",
       "      <td>unemployment</td>\n",
       "      <td>-0.216038</td>\n",
       "      <td>-0.569541</td>\n",
       "      <td>0.224321</td>\n",
       "      <td>0.265149</td>\n",
       "      <td>0.297615</td>\n",
       "      <td>-0.322985</td>\n",
       "      <td>-0.010499</td>\n",
       "      <td>-0.262096</td>\n",
       "      <td>-0.327459</td>\n",
       "      <td>1.000000</td>\n",
       "    </tr>\n",
       "  </tbody>\n",
       "</table>\n",
       "</div>"
      ],
      "text/plain": [
       "                         gdp_growth  gross_capital_formation  pop_growth  \\\n",
       "gdp_growth                 1.000000                 0.104711    0.577133   \n",
       "gross_capital_formation    0.104711                 1.000000   -0.116695   \n",
       "pop_growth                 0.577133                -0.116695    1.000000   \n",
       "birth_rate                 0.569042                -0.121824    0.979736   \n",
       "broad_money_growth         0.312360                -0.135948    0.524675   \n",
       "final_consum_growth        0.862195                 0.307906    0.508159   \n",
       "gov_final_consum_growth    0.092569                 0.277231    0.300214   \n",
       "gross_cap_form_growth      0.852379                 0.141669    0.383733   \n",
       "hh_consum_growth           0.878515                 0.297928    0.490806   \n",
       "unemployment              -0.216038                -0.569541    0.224321   \n",
       "\n",
       "                         birth_rate  broad_money_growth  final_consum_growth  \\\n",
       "gdp_growth                 0.569042            0.312360             0.862195   \n",
       "gross_capital_formation   -0.121824           -0.135948             0.307906   \n",
       "pop_growth                 0.979736            0.524675             0.508159   \n",
       "birth_rate                 1.000000            0.520379             0.487728   \n",
       "broad_money_growth         0.520379            1.000000             0.302724   \n",
       "final_consum_growth        0.487728            0.302724             1.000000   \n",
       "gov_final_consum_growth    0.302905            0.297538             0.345633   \n",
       "gross_cap_form_growth      0.386733            0.249022             0.744546   \n",
       "hh_consum_growth           0.469414            0.280291             0.994399   \n",
       "unemployment               0.265149            0.297615            -0.322985   \n",
       "\n",
       "                         gov_final_consum_growth  gross_cap_form_growth  \\\n",
       "gdp_growth                              0.092569               0.852379   \n",
       "gross_capital_formation                 0.277231               0.141669   \n",
       "pop_growth                              0.300214               0.383733   \n",
       "birth_rate                              0.302905               0.386733   \n",
       "broad_money_growth                      0.297538               0.249022   \n",
       "final_consum_growth                     0.345633               0.744546   \n",
       "gov_final_consum_growth                 1.000000               0.078466   \n",
       "gross_cap_form_growth                   0.078466               1.000000   \n",
       "hh_consum_growth                        0.247448               0.758793   \n",
       "unemployment                           -0.010499              -0.262096   \n",
       "\n",
       "                         hh_consum_growth  unemployment  \n",
       "gdp_growth                       0.878515     -0.216038  \n",
       "gross_capital_formation          0.297928     -0.569541  \n",
       "pop_growth                       0.490806      0.224321  \n",
       "birth_rate                       0.469414      0.265149  \n",
       "broad_money_growth               0.280291      0.297615  \n",
       "final_consum_growth              0.994399     -0.322985  \n",
       "gov_final_consum_growth          0.247448     -0.010499  \n",
       "gross_cap_form_growth            0.758793     -0.262096  \n",
       "hh_consum_growth                 1.000000     -0.327459  \n",
       "unemployment                    -0.327459      1.000000  "
      ]
     },
     "metadata": {},
     "output_type": "display_data"
    },
    {
     "data": {
      "text/plain": [
       "<matplotlib.axes._subplots.AxesSubplot at 0x1761a558be0>"
      ]
     },
     "execution_count": 8,
     "metadata": {},
     "output_type": "execute_result"
    },
    {
     "data": {
      "image/png": "[encoded data removed]",
      "text/plain": [
       "<Figure size 432x288 with 2 Axes>"
      ]
     },
     "metadata": {
      "needs_background": "light"
     },
     "output_type": "display_data"
    }
   ],
   "source": [
    "# calculate the correlation matrix\n",
    "corr = econ_df1.corr()\n",
    "# display the correlation matrix\n",
    "display(corr)\n",
    "# plot the correlation heatmap\n",
    "sns.heatmap(corr,annot = True) # annot=True will give you value\n"
   ]
  },
  {
   "cell_type": "markdown",
   "metadata": {},
   "source": [
    "# Model Building"
   ]
  },
  {
   "cell_type": "code",
   "execution_count": 9,
   "metadata": {},
   "outputs": [
    {
     "name": "stdout",
     "output_type": "stream",
     "text": [
      "                            OLS Regression Results                            \n",
      "==============================================================================\n",
      "Dep. Variable:             gdp_growth   R-squared:                       0.898\n",
      "Model:                            OLS   Adj. R-squared:                  0.865\n",
      "Method:                 Least Squares   F-statistic:                     27.27\n",
      "Date:                Fri, 29 Nov 2019   Prob (F-statistic):           1.45e-11\n",
      "Time:                        08:22:04   Log-Likelihood:                -68.019\n",
      "No. Observations:                  38   AIC:                             156.0\n",
      "Df Residuals:                      28   BIC:                             172.4\n",
      "Df Model:                           9                                         \n",
      "Covariance Type:            nonrobust                                         \n",
      "===========================================================================================\n",
      "                              coef    std err          t      P>|t|      [0.025      0.975]\n",
      "-------------------------------------------------------------------------------------------\n",
      "const                       5.2591      5.899      0.891      0.380      -6.825      17.344\n",
      "gross_capital_formation    -0.0885      0.137     -0.647      0.523      -0.369       0.192\n",
      "pop_growth                  0.1805      2.961      0.061      0.952      -5.885       6.246\n",
      "birth_rate                  0.1346      0.225      0.597      0.555      -0.327       0.596\n",
      "broad_money_growth         -0.0018      0.022     -0.082      0.936      -0.047       0.043\n",
      "final_consum_growth         0.2156      4.059      0.053      0.958      -8.099       8.530\n",
      "gov_final_consum_growth    -0.2222      0.663     -0.335      0.740      -1.580       1.136\n",
      "gross_cap_form_growth       0.1296      0.033      3.891      0.001       0.061       0.198\n",
      "hh_consum_growth            0.3545      3.378      0.105      0.917      -6.565       7.274\n",
      "unemployment               -0.1800      0.521     -0.346      0.732      -1.247       0.887\n",
      "==============================================================================\n",
      "Omnibus:                        1.099   Durbin-Watson:                   2.163\n",
      "Prob(Omnibus):                  0.577   Jarque-Bera (JB):                1.088\n",
      "Skew:                           0.286   Prob(JB):                        0.581\n",
      "Kurtosis:                       2.401   Cond. No.                     1.25e+03\n",
      "==============================================================================\n",
      "\n",
      "Warnings:\n",
      "[1] Standard Errors assume that the covariance matrix of the errors is correctly specified.\n",
      "[2] The condition number is large, 1.25e+03. This might indicate that there are\n",
      "strong multicollinearity or other numerical problems.\n"
     ]
    },
    {
     "name": "stderr",
     "output_type": "stream",
     "text": [
      "C:\\ProgramData\\Anaconda3\\lib\\site-packages\\numpy\\core\\fromnumeric.py:2389: FutureWarning: Method .ptp is deprecated and will be removed in a future version. Use numpy.ptp instead.\n",
      "  return ptp(axis=axis, out=out, **kwargs)\n"
     ]
    }
   ],
   "source": [
    "# define our intput\n",
    "X_1 = sm.add_constant(X_train)\n",
    "# create a OLS model\n",
    "model = sm.OLS(y_train, X_1).fit()\n",
    "print(model.summary())"
   ]
  },
  {
   "cell_type": "markdown",
   "metadata": {},
   "source": [
    "# Multicolinearity (with the help of VIF)"
   ]
  },
  {
   "cell_type": "code",
   "execution_count": 10,
   "metadata": {},
   "outputs": [
    {
     "data": {
      "text/plain": [
       "gross_capital_formation      19.212176\n",
       "pop_growth                  162.241884\n",
       "birth_rate                  207.024778\n",
       "broad_money_growth            4.512362\n",
       "final_consum_growth        4851.838385\n",
       "gov_final_consum_growth      98.964975\n",
       "gross_cap_form_growth         4.026634\n",
       "hh_consum_growth           3726.109127\n",
       "unemployment                 19.176525\n",
       "dtype: float64"
      ]
     },
     "execution_count": 10,
     "metadata": {},
     "output_type": "execute_result"
    }
   ],
   "source": [
    "X1=econ_df1.drop(['gdp_growth'],axis=1)\n",
    "# the VIF does expect a constant term in the data, \n",
    "#so we need to add one using the add_constant method\n",
    "#X1 = sm.add_constant(econ_df_before)\n",
    "series_before = pd.Series([variance_inflation_factor(X1.values, i) \n",
    "                           for i in range(X1.shape[1])], \n",
    "                          index=X1.columns)\n",
    "series_before"
   ]
  },
  {
   "cell_type": "markdown",
   "metadata": {},
   "source": [
    "# Removing the inSignificant variable  \n",
    "\n",
    "* Variable will be remove based on P-value (>0.05) one by one"
   ]
  },
  {
   "cell_type": "markdown",
   "metadata": {},
   "source": [
    "* Removing final_consum_growth with the help of P-value"
   ]
  },
  {
   "cell_type": "code",
   "execution_count": 11,
   "metadata": {},
   "outputs": [],
   "source": [
    "X_train=X_train.drop(['final_consum_growth'],axis=1)"
   ]
  },
  {
   "cell_type": "code",
   "execution_count": 12,
   "metadata": {},
   "outputs": [
    {
     "name": "stdout",
     "output_type": "stream",
     "text": [
      "                            OLS Regression Results                            \n",
      "==============================================================================\n",
      "Dep. Variable:             gdp_growth   R-squared:                       0.898\n",
      "Model:                            OLS   Adj. R-squared:                  0.869\n",
      "Method:                 Least Squares   F-statistic:                     31.77\n",
      "Date:                Fri, 29 Nov 2019   Prob (F-statistic):           2.47e-12\n",
      "Time:                        08:22:04   Log-Likelihood:                -68.021\n",
      "No. Observations:                  38   AIC:                             154.0\n",
      "Df Residuals:                      29   BIC:                             168.8\n",
      "Df Model:                           8                                         \n",
      "Covariance Type:            nonrobust                                         \n",
      "===========================================================================================\n",
      "                              coef    std err          t      P>|t|      [0.025      0.975]\n",
      "-------------------------------------------------------------------------------------------\n",
      "const                       5.4856      4.008      1.369      0.182      -2.711      13.682\n",
      "gross_capital_formation    -0.0934      0.100     -0.937      0.356      -0.297       0.110\n",
      "pop_growth                  0.1573      2.878      0.055      0.957      -5.730       6.044\n",
      "birth_rate                  0.1367      0.218      0.626      0.536      -0.310       0.583\n",
      "broad_money_growth         -0.0018      0.021     -0.082      0.935      -0.046       0.042\n",
      "gov_final_consum_growth    -0.1876      0.117     -1.607      0.119      -0.426       0.051\n",
      "gross_cap_form_growth       0.1296      0.033      3.959      0.000       0.063       0.197\n",
      "hh_consum_growth            0.5339      0.110      4.859      0.000       0.309       0.759\n",
      "unemployment               -0.1965      0.411     -0.478      0.636      -1.037       0.644\n",
      "==============================================================================\n",
      "Omnibus:                        1.099   Durbin-Watson:                   2.155\n",
      "Prob(Omnibus):                  0.577   Jarque-Bera (JB):                1.084\n",
      "Skew:                           0.282   Prob(JB):                        0.582\n",
      "Kurtosis:                       2.395   Cond. No.                         687.\n",
      "==============================================================================\n",
      "\n",
      "Warnings:\n",
      "[1] Standard Errors assume that the covariance matrix of the errors is correctly specified.\n"
     ]
    }
   ],
   "source": [
    "# define our intput\n",
    "X2 = sm.add_constant(X_train)\n",
    "# create a OLS model\n",
    "model2 = sm.OLS(y_train, X2).fit()\n",
    "print(model2.summary())"
   ]
  },
  {
   "cell_type": "code",
   "execution_count": 13,
   "metadata": {},
   "outputs": [
    {
     "data": {
      "text/plain": [
       "gross_capital_formation     18.875927\n",
       "pop_growth                 161.972132\n",
       "birth_rate                 205.702518\n",
       "broad_money_growth           4.509515\n",
       "gov_final_consum_growth      6.649093\n",
       "gross_cap_form_growth        4.000155\n",
       "hh_consum_growth             8.528824\n",
       "unemployment                19.152951\n",
       "dtype: float64"
      ]
     },
     "execution_count": 13,
     "metadata": {},
     "output_type": "execute_result"
    }
   ],
   "source": [
    "X1=econ_df1.drop(['gdp_growth','final_consum_growth'],axis=1)\n",
    "# the VFI does expect a constant term in the data, \n",
    "#so we need to add one using the add_constant method\n",
    "#X1 = sm.add_constant(econ_df_before)\n",
    "series_before =pd.Series([variance_inflation_factor(X1.values, i) \n",
    "                           for i in range(X1.shape[1])], \n",
    "          index=X1.columns)\n",
    "series_before"
   ]
  },
  {
   "cell_type": "markdown",
   "metadata": {},
   "source": [
    "#  Removing birth_rate with the help of P-value"
   ]
  },
  {
   "cell_type": "code",
   "execution_count": 14,
   "metadata": {},
   "outputs": [],
   "source": [
    "X_train=X_train.drop(['birth_rate'],axis=1)"
   ]
  },
  {
   "cell_type": "code",
   "execution_count": 15,
   "metadata": {},
   "outputs": [
    {
     "name": "stdout",
     "output_type": "stream",
     "text": [
      "                            OLS Regression Results                            \n",
      "==============================================================================\n",
      "Dep. Variable:             gdp_growth   R-squared:                       0.896\n",
      "Model:                            OLS   Adj. R-squared:                  0.872\n",
      "Method:                 Least Squares   F-statistic:                     37.00\n",
      "Date:                Fri, 29 Nov 2019   Prob (F-statistic):           4.68e-13\n",
      "Time:                        08:22:05   Log-Likelihood:                -68.276\n",
      "No. Observations:                  38   AIC:                             152.6\n",
      "Df Residuals:                      30   BIC:                             165.7\n",
      "Df Model:                           7                                         \n",
      "Covariance Type:            nonrobust                                         \n",
      "===========================================================================================\n",
      "                              coef    std err          t      P>|t|      [0.025      0.975]\n",
      "-------------------------------------------------------------------------------------------\n",
      "const                       5.3408      3.960      1.349      0.188      -2.747      13.429\n",
      "gross_capital_formation    -0.0864      0.098     -0.881      0.385      -0.287       0.114\n",
      "pop_growth                  1.8952      0.759      2.497      0.018       0.345       3.445\n",
      "broad_money_growth         -0.0025      0.021     -0.117      0.908      -0.046       0.041\n",
      "gov_final_consum_growth    -0.1829      0.115     -1.586      0.123      -0.418       0.053\n",
      "gross_cap_form_growth       0.1336      0.032      4.201      0.000       0.069       0.199\n",
      "hh_consum_growth            0.5277      0.108      4.872      0.000       0.307       0.749\n",
      "unemployment               -0.1265      0.391     -0.323      0.749      -0.926       0.673\n",
      "==============================================================================\n",
      "Omnibus:                        1.508   Durbin-Watson:                   2.120\n",
      "Prob(Omnibus):                  0.470   Jarque-Bera (JB):                1.248\n",
      "Skew:                           0.255   Prob(JB):                        0.536\n",
      "Kurtosis:                       2.273   Cond. No.                         634.\n",
      "==============================================================================\n",
      "\n",
      "Warnings:\n",
      "[1] Standard Errors assume that the covariance matrix of the errors is correctly specified.\n"
     ]
    }
   ],
   "source": [
    "# define our intput\n",
    "X3 = sm.add_constant(X_train)\n",
    "# create a OLS model\n",
    "model3 = sm.OLS(y_train,X3).fit()\n",
    "print(model3.summary())"
   ]
  },
  {
   "cell_type": "code",
   "execution_count": 16,
   "metadata": {},
   "outputs": [
    {
     "data": {
      "text/plain": [
       "gross_capital_formation    18.377418\n",
       "pop_growth                 11.431435\n",
       "broad_money_growth          4.498154\n",
       "gov_final_consum_growth     6.610855\n",
       "gross_cap_form_growth       3.858980\n",
       "hh_consum_growth            8.466026\n",
       "unemployment               17.235662\n",
       "dtype: float64"
      ]
     },
     "execution_count": 16,
     "metadata": {},
     "output_type": "execute_result"
    }
   ],
   "source": [
    "X1=econ_df1.drop(['gdp_growth','final_consum_growth',\n",
    "                  'birth_rate'],axis=1)\n",
    "# the VFI does expect a constant term in the data, \n",
    "#so we need to add one using the add_constant method\n",
    "#X1 = sm.add_constant(econ_df_before)\n",
    "series_before = pd.Series([variance_inflation_factor(X1.values, i) \n",
    "                           for i in range(X1.shape[1])], index=X1.columns)\n",
    "series_before"
   ]
  },
  {
   "cell_type": "markdown",
   "metadata": {},
   "source": [
    "# Data Partition"
   ]
  },
  {
   "cell_type": "code",
   "execution_count": 45,
   "metadata": {},
   "outputs": [],
   "source": [
    "# define our input variable (X) & output variable\n",
    "\n",
    "X = econ_df.drop('gdp_growth', axis = 1)\n",
    "Y = econ_df[['gdp_growth']]\n",
    "# Split X and y into X_\n",
    "X_train, X_test, y_train, y_test =train_test_split(X, Y, test_size=0.20, random_state=1)"
   ]
  },
  {
   "cell_type": "code",
   "execution_count": 46,
   "metadata": {},
   "outputs": [],
   "source": [
    "econ_df1=pd.concat([y_train,X_train],axis=1)"
   ]
  },
  {
   "cell_type": "markdown",
   "metadata": {},
   "source": [
    "# Backward Elimination Method"
   ]
  },
  {
   "cell_type": "code",
   "execution_count": 47,
   "metadata": {},
   "outputs": [],
   "source": [
    "X = econ_df1.drop('gdp_growth', axis = 1)\n",
    "y = econ_df1['gdp_growth']"
   ]
  },
  {
   "cell_type": "markdown",
   "metadata": {},
   "source": [
    "# Its work on dataframe"
   ]
  },
  {
   "cell_type": "code",
   "execution_count": 48,
   "metadata": {},
   "outputs": [
    {
     "name": "stdout",
     "output_type": "stream",
     "text": [
      "['birth_rate', 'gov_final_consum_growth', 'gross_cap_form_growth', 'hh_consum_growth']\n"
     ]
    }
   ],
   "source": [
    "#Backward Elimination\n",
    "cols = list(X.columns) # all column present  in x  \n",
    "pmax = 1\n",
    "while (len(cols)>0):  # count of variable should be greater than zero\n",
    "    p= []\n",
    "    X_1 = X[cols]  # all column we are assign in x_1\n",
    "    X_1 = sm.add_constant(X_1)# adding a column with value 1\n",
    "    final_model = sm.OLS(y,X_1).fit() # Regression model\n",
    "    p = pd.Series(final_model.pvalues.values[1:],index = cols) \n",
    "    # to get p-values for all variable only     \n",
    "    pmax = max(p)  # select a max P-value \n",
    "    feature_with_p_max = p.idxmax()   \n",
    "    # idmax is used to display the variable name which has max P-value\n",
    "    if(pmax>0.05):\n",
    "        cols.remove(feature_with_p_max)\n",
    "    else:\n",
    "        break\n",
    "selected_features_BE = cols\n",
    "print(selected_features_BE)"
   ]
  },
  {
   "cell_type": "code",
   "execution_count": 49,
   "metadata": {},
   "outputs": [
    {
     "data": {
      "text/html": [
       "<table class=\"simpletable\">\n",
       "<caption>OLS Regression Results</caption>\n",
       "<tr>\n",
       "  <th>Dep. Variable:</th>       <td>gdp_growth</td>    <th>  R-squared:         </th> <td>   0.894</td>\n",
       "</tr>\n",
       "<tr>\n",
       "  <th>Model:</th>                   <td>OLS</td>       <th>  Adj. R-squared:    </th> <td>   0.881</td>\n",
       "</tr>\n",
       "<tr>\n",
       "  <th>Method:</th>             <td>Least Squares</td>  <th>  F-statistic:       </th> <td>   69.81</td>\n",
       "</tr>\n",
       "<tr>\n",
       "  <th>Date:</th>             <td>Fri, 29 Nov 2019</td> <th>  Prob (F-statistic):</th> <td>1.24e-15</td>\n",
       "</tr>\n",
       "<tr>\n",
       "  <th>Time:</th>                 <td>08:25:22</td>     <th>  Log-Likelihood:    </th> <td> -68.618</td>\n",
       "</tr>\n",
       "<tr>\n",
       "  <th>No. Observations:</th>      <td>    38</td>      <th>  AIC:               </th> <td>   147.2</td>\n",
       "</tr>\n",
       "<tr>\n",
       "  <th>Df Residuals:</th>          <td>    33</td>      <th>  BIC:               </th> <td>   155.4</td>\n",
       "</tr>\n",
       "<tr>\n",
       "  <th>Df Model:</th>              <td>     4</td>      <th>                     </th>     <td> </td>   \n",
       "</tr>\n",
       "<tr>\n",
       "  <th>Covariance Type:</th>      <td>nonrobust</td>    <th>                     </th>     <td> </td>   \n",
       "</tr>\n",
       "</table>\n",
       "<table class=\"simpletable\">\n",
       "<tr>\n",
       "             <td></td>                <th>coef</th>     <th>std err</th>      <th>t</th>      <th>P>|t|</th>  <th>[0.025</th>    <th>0.975]</th>  \n",
       "</tr>\n",
       "<tr>\n",
       "  <th>const</th>                   <td>    1.8413</td> <td>    0.778</td> <td>    2.368</td> <td> 0.024</td> <td>    0.259</td> <td>    3.423</td>\n",
       "</tr>\n",
       "<tr>\n",
       "  <th>birth_rate</th>              <td>    0.1510</td> <td>    0.046</td> <td>    3.290</td> <td> 0.002</td> <td>    0.058</td> <td>    0.244</td>\n",
       "</tr>\n",
       "<tr>\n",
       "  <th>gov_final_consum_growth</th> <td>   -0.2222</td> <td>    0.103</td> <td>   -2.147</td> <td> 0.039</td> <td>   -0.433</td> <td>   -0.012</td>\n",
       "</tr>\n",
       "<tr>\n",
       "  <th>gross_cap_form_growth</th>   <td>    0.1328</td> <td>    0.030</td> <td>    4.384</td> <td> 0.000</td> <td>    0.071</td> <td>    0.194</td>\n",
       "</tr>\n",
       "<tr>\n",
       "  <th>hh_consum_growth</th>        <td>    0.5202</td> <td>    0.094</td> <td>    5.517</td> <td> 0.000</td> <td>    0.328</td> <td>    0.712</td>\n",
       "</tr>\n",
       "</table>\n",
       "<table class=\"simpletable\">\n",
       "<tr>\n",
       "  <th>Omnibus:</th>       <td> 0.736</td> <th>  Durbin-Watson:     </th> <td>   2.072</td>\n",
       "</tr>\n",
       "<tr>\n",
       "  <th>Prob(Omnibus):</th> <td> 0.692</td> <th>  Jarque-Bera (JB):  </th> <td>   0.825</td>\n",
       "</tr>\n",
       "<tr>\n",
       "  <th>Skew:</th>          <td> 0.263</td> <th>  Prob(JB):          </th> <td>   0.662</td>\n",
       "</tr>\n",
       "<tr>\n",
       "  <th>Kurtosis:</th>      <td> 2.505</td> <th>  Cond. No.          </th> <td>    72.1</td>\n",
       "</tr>\n",
       "</table><br/><br/>Warnings:<br/>[1] Standard Errors assume that the covariance matrix of the errors is correctly specified."
      ],
      "text/plain": [
       "<class 'statsmodels.iolib.summary.Summary'>\n",
       "\"\"\"\n",
       "                            OLS Regression Results                            \n",
       "==============================================================================\n",
       "Dep. Variable:             gdp_growth   R-squared:                       0.894\n",
       "Model:                            OLS   Adj. R-squared:                  0.881\n",
       "Method:                 Least Squares   F-statistic:                     69.81\n",
       "Date:                Fri, 29 Nov 2019   Prob (F-statistic):           1.24e-15\n",
       "Time:                        08:25:22   Log-Likelihood:                -68.618\n",
       "No. Observations:                  38   AIC:                             147.2\n",
       "Df Residuals:                      33   BIC:                             155.4\n",
       "Df Model:                           4                                         \n",
       "Covariance Type:            nonrobust                                         \n",
       "===========================================================================================\n",
       "                              coef    std err          t      P>|t|      [0.025      0.975]\n",
       "-------------------------------------------------------------------------------------------\n",
       "const                       1.8413      0.778      2.368      0.024       0.259       3.423\n",
       "birth_rate                  0.1510      0.046      3.290      0.002       0.058       0.244\n",
       "gov_final_consum_growth    -0.2222      0.103     -2.147      0.039      -0.433      -0.012\n",
       "gross_cap_form_growth       0.1328      0.030      4.384      0.000       0.071       0.194\n",
       "hh_consum_growth            0.5202      0.094      5.517      0.000       0.328       0.712\n",
       "==============================================================================\n",
       "Omnibus:                        0.736   Durbin-Watson:                   2.072\n",
       "Prob(Omnibus):                  0.692   Jarque-Bera (JB):                0.825\n",
       "Skew:                           0.263   Prob(JB):                        0.662\n",
       "Kurtosis:                       2.505   Cond. No.                         72.1\n",
       "==============================================================================\n",
       "\n",
       "Warnings:\n",
       "[1] Standard Errors assume that the covariance matrix of the errors is correctly specified.\n",
       "\"\"\""
      ]
     },
     "execution_count": 49,
     "metadata": {},
     "output_type": "execute_result"
    }
   ],
   "source": [
    "final_model.summary()"
   ]
  },
  {
   "cell_type": "markdown",
   "metadata": {},
   "source": [
    "# Vif of Model"
   ]
  },
  {
   "cell_type": "code",
   "execution_count": 61,
   "metadata": {},
   "outputs": [
    {
     "data": {
      "text/plain": [
       "birth_rate                 6.259384\n",
       "hh_consum_growth           6.962436\n",
       "gov_final_consum_growth    4.903463\n",
       "gross_cap_form_growth      3.825839\n",
       "dtype: float64"
      ]
     },
     "execution_count": 61,
     "metadata": {},
     "output_type": "execute_result"
    }
   ],
   "source": [
    "X1=econ_df1.loc[:,['birth_rate','hh_consum_growth',\n",
    "                   'gov_final_consum_growth','gross_cap_form_growth']]\n",
    "series_before = pd.Series([variance_inflation_factor(X1.values, i) \n",
    "                           for i in range(X1.shape[1])], index=X1.columns)\n",
    "series_before"
   ]
  },
  {
   "cell_type": "markdown",
   "metadata": {},
   "source": [
    "# Assumption of Model\n",
    "\n",
    "* Linearity\n",
    "* Normality\n",
    "* Homoscedasicity\n",
    "* Model Error has to be independently identificaly Distibuted"
   ]
  },
  {
   "cell_type": "markdown",
   "metadata": {},
   "source": [
    "# Homoscedasicity "
   ]
  },
  {
   "cell_type": "code",
   "execution_count": 54,
   "metadata": {},
   "outputs": [],
   "source": [
    "Data=pd.concat([X_train,y_train],axis=1)"
   ]
  },
  {
   "cell_type": "code",
   "execution_count": 55,
   "metadata": {},
   "outputs": [],
   "source": [
    "Data['Fitted_value']=final_model.fittedvalues\n",
    "Data['Residual']=final_model.resid"
   ]
  },
  {
   "cell_type": "code",
   "execution_count": 56,
   "metadata": {},
   "outputs": [
    {
     "data": {
      "image/png": "[encoded data removed]",
      "text/plain": [
       "<Figure size 432x288 with 1 Axes>"
      ]
     },
     "metadata": {
      "needs_background": "light"
     },
     "output_type": "display_data"
    }
   ],
   "source": [
    "p = Data.plot.scatter(x='Fitted_value',y='Residual')\n",
    "plt.xlabel('Fitted values')\n",
    "plt.ylabel('Residuals')\n",
    "p = plt.title('Residuals vs fitted values plot for homoscedasticity check')\n",
    "plt.show()"
   ]
  },
  {
   "cell_type": "markdown",
   "metadata": {},
   "source": [
    " The null hypothesis for  Breusch-Pagan test is that :\n",
    "\n",
    "* H0 = σ2i = σ2 (the variances for the errors are equal)\n",
    "\n",
    "The alternate hypothesis (the one you’re testing), is that :\n",
    "\n",
    "* H1 = σ2i ≠ σ2 (the variances are not equal)"
   ]
  },
  {
   "cell_type": "code",
   "execution_count": 57,
   "metadata": {},
   "outputs": [
    {
     "name": "stdout",
     "output_type": "stream",
     "text": [
      "0.25145186348037096 0.26978677175560384\n"
     ]
    }
   ],
   "source": [
    "# Run the Breusch-Pagan test\n",
    "_, pval2, __, f_pval2 = diag.het_breuschpagan(final_model.resid,\n",
    "                                              final_model.model.exog)\n",
    "print(pval2, f_pval2)"
   ]
  },
  {
   "cell_type": "markdown",
   "metadata": {},
   "source": [
    "# Normality"
   ]
  },
  {
   "cell_type": "code",
   "execution_count": 58,
   "metadata": {},
   "outputs": [
    {
     "data": {
      "image/png": "[encoded data removed]",
      "text/plain": [
       "<Figure size 432x288 with 1 Axes>"
      ]
     },
     "metadata": {
      "needs_background": "light"
     },
     "output_type": "display_data"
    }
   ],
   "source": [
    "import pylab\n",
    "# check for the normality of the residuals\n",
    "sm.qqplot(final_model.resid, line='s')\n",
    "pylab.show()"
   ]
  },
  {
   "cell_type": "markdown",
   "metadata": {},
   "source": [
    "# Model Error are IID "
   ]
  },
  {
   "cell_type": "code",
   "execution_count": 59,
   "metadata": {},
   "outputs": [
    {
     "data": {
      "text/plain": [
       "<matplotlib.axes._subplots.AxesSubplot at 0x1761c4d63c8>"
      ]
     },
     "execution_count": 59,
     "metadata": {},
     "output_type": "execute_result"
    },
    {
     "data": {
      "image/png": "[encoded data removed]",
      "text/plain": [
       "<Figure size 432x288 with 1 Axes>"
      ]
     },
     "metadata": {
      "needs_background": "light"
     },
     "output_type": "display_data"
    }
   ],
   "source": [
    "Data['Residual'].plot.hist()"
   ]
  },
  {
   "cell_type": "markdown",
   "metadata": {},
   "source": [
    "# Prediction on Test Data (unseen data)"
   ]
  },
  {
   "cell_type": "code",
   "execution_count": 62,
   "metadata": {},
   "outputs": [],
   "source": [
    "X_test2 = X_test[['birth_rate','hh_consum_growth',\n",
    "                   'gov_final_consum_growth','gross_cap_form_growth']]"
   ]
  },
  {
   "cell_type": "code",
   "execution_count": 63,
   "metadata": {},
   "outputs": [],
   "source": [
    "X_test2 = sm.add_constant(X_test2)"
   ]
  },
  {
   "cell_type": "code",
   "execution_count": 64,
   "metadata": {},
   "outputs": [
    {
     "data": {
      "text/html": [
       "<div>\n",
       "<style scoped>\n",
       "    .dataframe tbody tr th:only-of-type {\n",
       "        vertical-align: middle;\n",
       "    }\n",
       "\n",
       "    .dataframe tbody tr th {\n",
       "        vertical-align: top;\n",
       "    }\n",
       "\n",
       "    .dataframe thead th {\n",
       "        text-align: right;\n",
       "    }\n",
       "</style>\n",
       "<table border=\"1\" class=\"dataframe\">\n",
       "  <thead>\n",
       "    <tr style=\"text-align: right;\">\n",
       "      <th></th>\n",
       "      <th>const</th>\n",
       "      <th>birth_rate</th>\n",
       "      <th>hh_consum_growth</th>\n",
       "      <th>gov_final_consum_growth</th>\n",
       "      <th>gross_cap_form_growth</th>\n",
       "    </tr>\n",
       "    <tr>\n",
       "      <th>Year</th>\n",
       "      <th></th>\n",
       "      <th></th>\n",
       "      <th></th>\n",
       "      <th></th>\n",
       "      <th></th>\n",
       "    </tr>\n",
       "  </thead>\n",
       "  <tbody>\n",
       "    <tr>\n",
       "      <td>2002</td>\n",
       "      <td>1.0</td>\n",
       "      <td>10.2</td>\n",
       "      <td>8.880712</td>\n",
       "      <td>5.607038</td>\n",
       "      <td>7.297822</td>\n",
       "    </tr>\n",
       "    <tr>\n",
       "      <td>1992</td>\n",
       "      <td>1.0</td>\n",
       "      <td>16.7</td>\n",
       "      <td>6.853033</td>\n",
       "      <td>6.436623</td>\n",
       "      <td>0.106136</td>\n",
       "    </tr>\n",
       "    <tr>\n",
       "      <td>2007</td>\n",
       "      <td>1.0</td>\n",
       "      <td>10.0</td>\n",
       "      <td>5.098033</td>\n",
       "      <td>6.061820</td>\n",
       "      <td>4.531682</td>\n",
       "    </tr>\n",
       "    <tr>\n",
       "      <td>2005</td>\n",
       "      <td>1.0</td>\n",
       "      <td>8.9</td>\n",
       "      <td>4.419130</td>\n",
       "      <td>4.529687</td>\n",
       "      <td>2.417118</td>\n",
       "    </tr>\n",
       "    <tr>\n",
       "      <td>1971</td>\n",
       "      <td>1.0</td>\n",
       "      <td>31.2</td>\n",
       "      <td>9.426969</td>\n",
       "      <td>8.610547</td>\n",
       "      <td>15.172870</td>\n",
       "    </tr>\n",
       "  </tbody>\n",
       "</table>\n",
       "</div>"
      ],
      "text/plain": [
       "      const  birth_rate  hh_consum_growth  gov_final_consum_growth  \\\n",
       "Year                                                                 \n",
       "2002    1.0        10.2          8.880712                 5.607038   \n",
       "1992    1.0        16.7          6.853033                 6.436623   \n",
       "2007    1.0        10.0          5.098033                 6.061820   \n",
       "2005    1.0         8.9          4.419130                 4.529687   \n",
       "1971    1.0        31.2          9.426969                 8.610547   \n",
       "\n",
       "      gross_cap_form_growth  \n",
       "Year                         \n",
       "2002               7.297822  \n",
       "1992               0.106136  \n",
       "2007               4.531682  \n",
       "2005               2.417118  \n",
       "1971              15.172870  "
      ]
     },
     "execution_count": 64,
     "metadata": {},
     "output_type": "execute_result"
    }
   ],
   "source": [
    "X_test2.head()"
   ]
  },
  {
   "cell_type": "code",
   "execution_count": 65,
   "metadata": {},
   "outputs": [],
   "source": [
    "y_predict=final_model.predict(X_test2)"
   ]
  },
  {
   "cell_type": "code",
   "execution_count": 66,
   "metadata": {},
   "outputs": [],
   "source": [
    "test=pd.concat([X_test,y_test],axis=1)"
   ]
  },
  {
   "cell_type": "code",
   "execution_count": 67,
   "metadata": {},
   "outputs": [],
   "source": [
    "test['Predicted']=y_predict"
   ]
  },
  {
   "cell_type": "code",
   "execution_count": 68,
   "metadata": {},
   "outputs": [
    {
     "data": {
      "text/html": [
       "<div>\n",
       "<style scoped>\n",
       "    .dataframe tbody tr th:only-of-type {\n",
       "        vertical-align: middle;\n",
       "    }\n",
       "\n",
       "    .dataframe tbody tr th {\n",
       "        vertical-align: top;\n",
       "    }\n",
       "\n",
       "    .dataframe thead th {\n",
       "        text-align: right;\n",
       "    }\n",
       "</style>\n",
       "<table border=\"1\" class=\"dataframe\">\n",
       "  <thead>\n",
       "    <tr style=\"text-align: right;\">\n",
       "      <th></th>\n",
       "      <th>gross_capital_formation</th>\n",
       "      <th>pop_growth</th>\n",
       "      <th>birth_rate</th>\n",
       "      <th>broad_money_growth</th>\n",
       "      <th>final_consum_growth</th>\n",
       "      <th>gov_final_consum_growth</th>\n",
       "      <th>gross_cap_form_growth</th>\n",
       "      <th>hh_consum_growth</th>\n",
       "      <th>unemployment</th>\n",
       "      <th>gdp_growth</th>\n",
       "      <th>Predicted</th>\n",
       "    </tr>\n",
       "    <tr>\n",
       "      <th>Year</th>\n",
       "      <th></th>\n",
       "      <th></th>\n",
       "      <th></th>\n",
       "      <th></th>\n",
       "      <th></th>\n",
       "      <th></th>\n",
       "      <th></th>\n",
       "      <th></th>\n",
       "      <th></th>\n",
       "      <th></th>\n",
       "      <th></th>\n",
       "    </tr>\n",
       "  </thead>\n",
       "  <tbody>\n",
       "    <tr>\n",
       "      <td>2002</td>\n",
       "      <td>30.939581</td>\n",
       "      <td>0.577957</td>\n",
       "      <td>10.2</td>\n",
       "      <td>13.999891</td>\n",
       "      <td>8.284738</td>\n",
       "      <td>5.607038</td>\n",
       "      <td>7.297822</td>\n",
       "      <td>8.880712</td>\n",
       "      <td>3.300</td>\n",
       "      <td>7.432434</td>\n",
       "      <td>5.949107</td>\n",
       "    </tr>\n",
       "    <tr>\n",
       "      <td>1992</td>\n",
       "      <td>38.485198</td>\n",
       "      <td>1.039161</td>\n",
       "      <td>16.7</td>\n",
       "      <td>14.941525</td>\n",
       "      <td>6.777232</td>\n",
       "      <td>6.436623</td>\n",
       "      <td>0.106136</td>\n",
       "      <td>6.853033</td>\n",
       "      <td>2.513</td>\n",
       "      <td>6.175506</td>\n",
       "      <td>3.749712</td>\n",
       "    </tr>\n",
       "    <tr>\n",
       "      <td>2007</td>\n",
       "      <td>32.579531</td>\n",
       "      <td>0.505234</td>\n",
       "      <td>10.0</td>\n",
       "      <td>10.819965</td>\n",
       "      <td>5.298003</td>\n",
       "      <td>6.061820</td>\n",
       "      <td>4.531682</td>\n",
       "      <td>5.098033</td>\n",
       "      <td>3.200</td>\n",
       "      <td>5.463396</td>\n",
       "      <td>5.380692</td>\n",
       "    </tr>\n",
       "    <tr>\n",
       "      <td>2005</td>\n",
       "      <td>32.163065</td>\n",
       "      <td>0.211998</td>\n",
       "      <td>8.9</td>\n",
       "      <td>6.989059</td>\n",
       "      <td>4.441178</td>\n",
       "      <td>4.529687</td>\n",
       "      <td>2.417118</td>\n",
       "      <td>4.419130</td>\n",
       "      <td>3.700</td>\n",
       "      <td>3.923677</td>\n",
       "      <td>4.061964</td>\n",
       "    </tr>\n",
       "    <tr>\n",
       "      <td>1971</td>\n",
       "      <td>25.558501</td>\n",
       "      <td>1.971324</td>\n",
       "      <td>31.2</td>\n",
       "      <td>20.844481</td>\n",
       "      <td>9.330434</td>\n",
       "      <td>8.610547</td>\n",
       "      <td>15.172870</td>\n",
       "      <td>9.426969</td>\n",
       "      <td>4.570</td>\n",
       "      <td>10.454693</td>\n",
       "      <td>13.493902</td>\n",
       "    </tr>\n",
       "  </tbody>\n",
       "</table>\n",
       "</div>"
      ],
      "text/plain": [
       "      gross_capital_formation  pop_growth  birth_rate  broad_money_growth  \\\n",
       "Year                                                                        \n",
       "2002                30.939581    0.577957        10.2           13.999891   \n",
       "1992                38.485198    1.039161        16.7           14.941525   \n",
       "2007                32.579531    0.505234        10.0           10.819965   \n",
       "2005                32.163065    0.211998         8.9            6.989059   \n",
       "1971                25.558501    1.971324        31.2           20.844481   \n",
       "\n",
       "      final_consum_growth  gov_final_consum_growth  gross_cap_form_growth  \\\n",
       "Year                                                                        \n",
       "2002             8.284738                 5.607038               7.297822   \n",
       "1992             6.777232                 6.436623               0.106136   \n",
       "2007             5.298003                 6.061820               4.531682   \n",
       "2005             4.441178                 4.529687               2.417118   \n",
       "1971             9.330434                 8.610547              15.172870   \n",
       "\n",
       "      hh_consum_growth  unemployment  gdp_growth  Predicted  \n",
       "Year                                                         \n",
       "2002          8.880712         3.300    7.432434   5.949107  \n",
       "1992          6.853033         2.513    6.175506   3.749712  \n",
       "2007          5.098033         3.200    5.463396   5.380692  \n",
       "2005          4.419130         3.700    3.923677   4.061964  \n",
       "1971          9.426969         4.570   10.454693  13.493902  "
      ]
     },
     "execution_count": 68,
     "metadata": {},
     "output_type": "execute_result"
    }
   ],
   "source": [
    "test.head()"
   ]
  },
  {
   "cell_type": "markdown",
   "metadata": {},
   "source": [
    "# Performance on Test Data set"
   ]
  },
  {
   "cell_type": "code",
   "execution_count": 69,
   "metadata": {},
   "outputs": [
    {
     "name": "stdout",
     "output_type": "stream",
     "text": [
      "MSE 8.48\n",
      "MAE 1.86\n",
      "RMSE 2.91\n"
     ]
    }
   ],
   "source": [
    "import math\n",
    "# calculate the mean squared error\n",
    "model_mse = mean_squared_error(test['gdp_growth'], test['Predicted'])\n",
    "# calculate the mean absolute error\n",
    "model_mae = mean_absolute_error(test['gdp_growth'], test['Predicted'])\n",
    "# calulcate the root mean squared error\n",
    "model_rmse = math.sqrt(model_mse)\n",
    "# display the output\n",
    "print(\"MSE {:.3}\".format(model_mse))\n",
    "print(\"MAE {:.3}\".format(model_mae))\n",
    "print(\"RMSE {:.3}\".format(model_rmse))"
   ]
  },
  {
   "cell_type": "markdown",
   "metadata": {},
   "source": [
    "# Performance on Training Data set"
   ]
  },
  {
   "cell_type": "code",
   "execution_count": 70,
   "metadata": {},
   "outputs": [
    {
     "name": "stdout",
     "output_type": "stream",
     "text": [
      "MSE 2.17\n",
      "MAE 1.21\n",
      "RMSE 1.47\n"
     ]
    }
   ],
   "source": [
    "import math\n",
    "# calculate the mean squared error\n",
    "model_mse = mean_squared_error(Data['gdp_growth'], Data['Fitted_value'])\n",
    "# calculate the mean absolute error\n",
    "model_mae = mean_absolute_error(Data['gdp_growth'], Data['Fitted_value'])\n",
    "# calulcate the root mean squared error\n",
    "model_rmse = math.sqrt(model_mse)\n",
    "# display the output\n",
    "print(\"MSE {:.3}\".format(model_mse))\n",
    "print(\"MAE {:.3}\".format(model_mae))\n",
    "print(\"RMSE {:.3}\".format(model_rmse))"
   ]
  },
  {
   "cell_type": "code",
   "execution_count": null,
   "metadata": {},
   "outputs": [],
   "source": []
  },
  {
   "cell_type": "code",
   "execution_count": null,
   "metadata": {},
   "outputs": [],
   "source": []
  }
 ],
 "metadata": {
  "kernelspec": {
   "display_name": "Python 3",
   "language": "python",
   "name": "python3"
  },
  "language_info": {
   "codemirror_mode": {
    "name": "ipython",
    "version": 3
   },
   "file_extension": ".py",
   "mimetype": "text/x-python",
   "name": "python",
   "nbconvert_exporter": "python",
   "pygments_lexer": "ipython3",
   "version": "3.6.9"
  }
 },
 "nbformat": 4,
 "nbformat_minor": 2
}
